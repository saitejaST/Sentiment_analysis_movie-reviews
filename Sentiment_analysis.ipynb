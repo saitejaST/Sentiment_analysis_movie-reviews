{
 "cells": [
  {
   "cell_type": "markdown",
   "id": "1ae13187-0566-4b0e-bbdc-c86a29f57520",
   "metadata": {},
   "source": [
    "# SENTIMENT ANALYSIS"
   ]
  },
  {
   "cell_type": "code",
   "execution_count": 1,
   "id": "8b38a074-e82e-4c90-9af1-87395b9ce386",
   "metadata": {},
   "outputs": [],
   "source": [
    "import nltk.classify.util\n",
    "from nltk.corpus import movie_reviews\n",
    "from nltk.classify import NaiveBayesClassifier"
   ]
  },
  {
   "cell_type": "code",
   "execution_count": 3,
   "id": "3a64bbf6-eb15-448e-934f-7f6a61c0193d",
   "metadata": {},
   "outputs": [],
   "source": [
    "def extract_feature(word_list):\n",
    "    return dict([(word,True) for word in word_list])"
   ]
  },
  {
   "cell_type": "code",
   "execution_count": 4,
   "id": "b2b6888d-d5c9-44b5-a2fc-ac5735f909c4",
   "metadata": {},
   "outputs": [],
   "source": [
    "if __name__=='__main__':\n",
    "    positive_review=movie_reviews.fileids('pos')\n",
    "    negative_review=movie_reviews.fileids('neg')"
   ]
  },
  {
   "cell_type": "code",
   "execution_count": 7,
   "id": "0c0ccbe0-7189-4204-ae93-cb003d3ddcbe",
   "metadata": {},
   "outputs": [],
   "source": [
    "feature_positives=[(extract_feature(movie_reviews.words(fileids=[f])),'Positive')for f in positive_review]\n",
    "feature_negative=[(extract_feature(movie_reviews.words(fileids=[f])),'Negative') for f in negative_review]"
   ]
  },
  {
   "cell_type": "code",
   "execution_count": 9,
   "id": "3b5beba1-93df-419c-a657-d5cc1d90eb17",
   "metadata": {},
   "outputs": [],
   "source": [
    "thresold_length=0.8\n",
    "positive_thresold=int(thresold_length*len(feature_positives))\n",
    "negative_thresold=int(thresold_length*len(feature_negative))\n"
   ]
  },
  {
   "cell_type": "code",
   "execution_count": 10,
   "id": "d3275724-41fe-46d3-8e82-5775e48ebcee",
   "metadata": {},
   "outputs": [],
   "source": [
    "training_data=feature_positives[:positive_thresold]+feature_negative[:negative_thresold]\n",
    "testing_data=feature_positives[positive_thresold:]+feature_negative[negative_thresold:]"
   ]
  },
  {
   "cell_type": "code",
   "execution_count": 11,
   "id": "5ba81f51-7a40-45fb-a990-b71af0f7988c",
   "metadata": {},
   "outputs": [
    {
     "name": "stdout",
     "output_type": "stream",
     "text": [
      "the lenght of the training data is  1600 The length of the testing data is  400\n"
     ]
    }
   ],
   "source": [
    "print(\"the lenght of the training data is \",len(training_data),\"The length of the testing data is \",len(testing_data))"
   ]
  },
  {
   "cell_type": "code",
   "execution_count": 25,
   "id": "a771e0b7-0470-4a9a-acc3-5c009efa5a96",
   "metadata": {},
   "outputs": [
    {
     "data": {
      "text/plain": [
       "0.735"
      ]
     },
     "execution_count": 25,
     "metadata": {},
     "output_type": "execute_result"
    }
   ],
   "source": [
    "classifier=NaiveBayesClassifier.train(training_data)\n",
    "nltk.classify.util.accuracy(classifier,testing_data)"
   ]
  },
  {
   "cell_type": "code",
   "execution_count": 27,
   "id": "9d4ef482-d5b4-47e9-a5a7-a49e5d6fc9ad",
   "metadata": {},
   "outputs": [
    {
     "name": "stdout",
     "output_type": "stream",
     "text": [
      "outstanding\n",
      "insulting\n",
      "vulnerable\n",
      "ludicrous\n",
      "uninvolving\n",
      "astounding\n",
      "avoids\n",
      "fascination\n",
      "affecting\n",
      "animators\n"
     ]
    }
   ],
   "source": [
    "for item in classifier.most_informative_features()[:10]:\n",
    "    print(item[0])"
   ]
  },
  {
   "cell_type": "code",
   "execution_count": 28,
   "id": "e19a231a-0ec7-49f2-b961-3ef7cb62ea65",
   "metadata": {},
   "outputs": [],
   "source": [
    "# giving the input reviews\n",
    "input_reviews = [\n",
    "\"It is an amazing movie\",\n",
    "\"This is a dull movie. I would never recommend it to anyone.\",\n",
    "\"The cinematography is pretty great in this movie\",\n",
    "\"The direction was terrible and the story was all over the place\"\n",
    "]"
   ]
  },
  {
   "cell_type": "code",
   "execution_count": 33,
   "id": "1acaf2a4-0a41-4282-8634-155d27e39f45",
   "metadata": {},
   "outputs": [
    {
     "name": "stdout",
     "output_type": "stream",
     "text": [
      "\n",
      "predictions\n",
      "\n",
      "review It is an amazing movie\n",
      "These will be containing the probability of the above review\n",
      "Probability: 0.61\n",
      "\n",
      "review This is a dull movie. I would never recommend it to anyone.\n",
      "These will be containing the probability of the above review\n",
      "Probability: 0.77\n",
      "\n",
      "review The cinematography is pretty great in this movie\n",
      "These will be containing the probability of the above review\n",
      "Probability: 0.67\n",
      "\n",
      "review The direction was terrible and the story was all over the place\n",
      "These will be containing the probability of the above review\n",
      "Probability: 0.63\n"
     ]
    }
   ],
   "source": [
    "print(\"\\npredictions\")\n",
    "for review in input_reviews:\n",
    "    print(\"\\nreview\",review)\n",
    "    print(\"These will be containing the probability of the above review\")\n",
    "    probdist=classifier.prob_classify(extract_feature(review.split()))\n",
    "    pred_sentiment=probdist.max()\n",
    "    print(\"Probability:\",round(probdist.prob(pred_sentiment),2))"
   ]
  },
  {
   "cell_type": "code",
   "execution_count": null,
   "id": "de74eb44-7aa4-4763-9c3e-e8ae1ff4a540",
   "metadata": {},
   "outputs": [],
   "source": []
  }
 ],
 "metadata": {
  "kernelspec": {
   "display_name": "Python 3 (ipykernel)",
   "language": "python",
   "name": "python3"
  },
  "language_info": {
   "codemirror_mode": {
    "name": "ipython",
    "version": 3
   },
   "file_extension": ".py",
   "mimetype": "text/x-python",
   "name": "python",
   "nbconvert_exporter": "python",
   "pygments_lexer": "ipython3",
   "version": "3.10.2"
  }
 },
 "nbformat": 4,
 "nbformat_minor": 5
}
